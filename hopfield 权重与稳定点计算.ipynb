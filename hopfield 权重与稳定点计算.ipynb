{
 "cells": [
  {
   "cell_type": "code",
   "execution_count": 35,
   "id": "df06e651",
   "metadata": {},
   "outputs": [],
   "source": [
    "import numpy as np\n",
    "\n"
   ]
  },
  {
   "cell_type": "code",
   "execution_count": 48,
   "id": "db5248da",
   "metadata": {},
   "outputs": [],
   "source": [
    "w = np.matrix([[0,3.4,2.8,-3.1],\n",
    "                [3.4,0,4.7,-1.2],\n",
    "                [2.8,4.7,0,-5.9],\n",
    "                [-3.1,-1.2,-5.9,0]])\n",
    "theta = np.matrix([6.3,-4.3,-2.5,-9.6])\n",
    "def sgn(x):\n",
    "    if x >= 0:\n",
    "        return 1\n",
    "    else:\n",
    "        return -1\n",
    "x = np.matrix([[1,1,1,1],[1,1,1,-1],[1,1,-1,-1],[1,-1,-1,-1],\n",
    "           [1,1,-1,1],[1,-1,-1,1],[1,-1,1,1],[1,-1,1,-1]])\n",
    "x = x.T"
   ]
  },
  {
   "cell_type": "code",
   "execution_count": 49,
   "id": "25b23b9b",
   "metadata": {},
   "outputs": [
    {
     "data": {
      "text/plain": [
       "(1, 32)"
      ]
     },
     "execution_count": 49,
     "metadata": {},
     "output_type": "execute_result"
    }
   ],
   "source": [
    "np.tile(theta,(1,8)).shape"
   ]
  },
  {
   "cell_type": "code",
   "execution_count": 50,
   "id": "647bed5d",
   "metadata": {},
   "outputs": [
    {
     "data": {
      "text/plain": [
       "matrix([[ 0. ,  3.4,  2.8, -3.1],\n",
       "        [ 3.4,  0. ,  4.7, -1.2],\n",
       "        [ 2.8,  4.7,  0. , -5.9],\n",
       "        [-3.1, -1.2, -5.9,  0. ]])"
      ]
     },
     "execution_count": 50,
     "metadata": {},
     "output_type": "execute_result"
    }
   ],
   "source": [
    "w"
   ]
  },
  {
   "cell_type": "code",
   "execution_count": 51,
   "id": "3f5118ba",
   "metadata": {},
   "outputs": [
    {
     "name": "stdout",
     "output_type": "stream",
     "text": [
      "[[ 1  1  1  1  1  1  1  1 -1 -1 -1 -1 -1 -1 -1 -1]\n",
      " [ 1  1  1 -1  1 -1 -1 -1 -1 -1 -1  1 -1  1  1  1]\n",
      " [ 1  1 -1 -1 -1 -1  1  1 -1 -1  1  1  1  1 -1 -1]\n",
      " [ 1 -1 -1 -1  1  1  1 -1 -1  1  1  1 -1 -1 -1  1]]\n"
     ]
    }
   ],
   "source": [
    "xPro = np.c_[x,-x]\n",
    "print(xPro)"
   ]
  },
  {
   "cell_type": "code",
   "execution_count": 52,
   "id": "9afb0502",
   "metadata": {},
   "outputs": [
    {
     "name": "stdout",
     "output_type": "stream",
     "text": [
      "[[ -3.2   3.   -2.6  -9.4  -8.8 -15.6 -10.   -3.8  -9.4 -15.6 -10.   -3.2\n",
      "   -3.8   3.   -2.6  -8.8]\n",
      " [ 11.2  13.6   4.2   4.2   1.8   1.8  11.2  13.6  -2.6  -5.    4.4   4.4\n",
      "    6.8   6.8  -2.6  -5. ]\n",
      " [  4.1  15.9  15.9   6.5   4.1  -5.3  -5.3   6.5   0.9 -10.9 -10.9  -1.5\n",
      "    0.9  10.3  10.3  -1.5]\n",
      " [ -0.6  -0.6  11.2  13.6  11.2  13.6   1.8   1.8  19.8  19.8   8.    5.6\n",
      "    8.    5.6  17.4  17.4]]\n",
      "[[ 1  1  1  1  1  1  1  1 -1 -1 -1 -1 -1 -1 -1 -1]\n",
      " [ 1  1  1 -1  1 -1 -1 -1 -1 -1 -1  1 -1  1  1  1]\n",
      " [ 1  1 -1 -1 -1 -1  1  1 -1 -1  1  1  1  1 -1 -1]\n",
      " [ 1 -1 -1 -1  1  1  1 -1 -1  1  1  1 -1 -1 -1  1]]\n",
      "[[-1  1 -1 -1 -1 -1 -1 -1 -1 -1 -1 -1 -1  1 -1 -1]\n",
      " [ 1  1  1  1  1  1  1  1 -1 -1  1  1  1  1 -1 -1]\n",
      " [ 1  1  1  1  1 -1 -1  1  1 -1 -1 -1  1  1  1 -1]\n",
      " [-1 -1  1  1  1  1  1  1  1  1  1  1  1  1  1  1]]\n"
     ]
    }
   ],
   "source": [
    "ans = np.dot(w,xPro)-theta.T\n",
    "print(ans)\n",
    "sgn = np.vectorize(sgn)\n",
    "y = sgn(np.array(ans))\n",
    "print(xPro)\n",
    "print(np.matrix(y))"
   ]
  },
  {
   "cell_type": "code",
   "execution_count": 53,
   "id": "ed42d567",
   "metadata": {},
   "outputs": [
    {
     "name": "stdout",
     "output_type": "stream",
     "text": [
      "[[ 1  1  1  1  1  1  1  1 -1 -1 -1 -1 -1 -1 -1 -1]\n",
      " [ 1  1  1 -1  1 -1 -1 -1 -1 -1 -1  1 -1  1  1  1]\n",
      " [ 1  1 -1 -1 -1 -1  1  1 -1 -1  1  1  1  1 -1 -1]\n",
      " [ 1 -1 -1 -1  1  1  1 -1 -1  1  1  1 -1 -1 -1  1]]\n",
      "[[-1  1 -1 -1 -1 -1 -1 -1 -1 -1 -1 -1 -1  1 -1 -1]\n",
      " [ 1  1  1  1  1  1  1  1 -1 -1  1  1  1  1 -1 -1]\n",
      " [ 1  1  1  1  1 -1 -1  1  1 -1 -1 -1  1  1  1 -1]\n",
      " [-1 -1  1  1  1  1  1  1  1  1  1  1  1  1  1  1]]\n"
     ]
    }
   ],
   "source": [
    "print(xPro)\n",
    "print(np.matrix(y))\n"
   ]
  },
  {
   "cell_type": "code",
   "execution_count": 54,
   "id": "0b4c64e8",
   "metadata": {},
   "outputs": [
    {
     "data": {
      "text/plain": [
       "-4.3"
      ]
     },
     "execution_count": 54,
     "metadata": {},
     "output_type": "execute_result"
    }
   ],
   "source": [
    "xPro = np.array(xPro)\n",
    "xPro[0][13]\n",
    "theta = np.array(theta)\n",
    "theta[0][1]"
   ]
  },
  {
   "cell_type": "code",
   "execution_count": 55,
   "id": "3cb70a50",
   "metadata": {},
   "outputs": [],
   "source": [
    "E = []\n",
    "res = 0\n",
    "w = np.array(w)\n",
    "xPro = np.array(xPro)\n",
    "theta = np.array(theta)\n",
    "for k in range(16):\n",
    "    for i in range(4):\n",
    "        for j in range(4):\n",
    "            res = res + (-1/2*w[i][j]*xPro[i][k]*x Pro[j][k])\n",
    "        res = res + theta[0][i]*xPro[i][k]\n",
    "    E.append(res)\n",
    "    res = 0\n",
    "                     "
   ]
  },
  {
   "cell_type": "code",
   "execution_count": 56,
   "id": "b590f358",
   "metadata": {},
   "outputs": [
    {
     "data": {
      "text/plain": [
       "[-10.8,\n",
       " -12.000000000000002,\n",
       " 19.8,\n",
       " 28.199999999999996,\n",
       " -2.6000000000000023,\n",
       " 1.0000000000000018,\n",
       " 11.599999999999996,\n",
       " 15.2,\n",
       " 9.400000000000002,\n",
       " -30.199999999999996,\n",
       " -8.399999999999999,\n",
       " -17.200000000000003,\n",
       " 7.6,\n",
       " -6.000000000000002,\n",
       " 14.6,\n",
       " -20.200000000000003]"
      ]
     },
     "execution_count": 56,
     "metadata": {},
     "output_type": "execute_result"
    }
   ],
   "source": [
    "E"
   ]
  },
  {
   "cell_type": "code",
   "execution_count": 63,
   "id": "6089a80e",
   "metadata": {},
   "outputs": [
    {
     "data": {
      "text/plain": [
       "array([[ 1,  1,  1,  1,  1,  1,  1,  1, -1, -1, -1, -1, -1, -1, -1, -1],\n",
       "       [ 1,  1,  1, -1,  1, -1, -1, -1, -1, -1, -1,  1, -1,  1,  1,  1],\n",
       "       [ 1,  1, -1, -1, -1, -1,  1,  1, -1, -1,  1,  1,  1,  1, -1, -1],\n",
       "       [ 1, -1, -1, -1,  1,  1,  1, -1, -1,  1,  1,  1, -1, -1, -1,  1]])"
      ]
     },
     "execution_count": 63,
     "metadata": {},
     "output_type": "execute_result"
    }
   ],
   "source": [
    "xPro"
   ]
  },
  {
   "cell_type": "code",
   "execution_count": 64,
   "id": "f3e22d31",
   "metadata": {},
   "outputs": [
    {
     "data": {
      "text/plain": [
       "array([[-1,  1, -1, -1, -1, -1, -1, -1, -1, -1, -1, -1, -1,  1, -1, -1],\n",
       "       [ 1,  1, -1, -1, -1, -1,  1,  1, -1, -1,  1,  1,  1,  1, -1, -1],\n",
       "       [-1,  1,  1,  1, -1, -1, -1,  1,  1, -1, -1, -1,  1,  1,  1, -1],\n",
       "       [ 1, -1,  1,  1,  1,  1,  1,  1,  1,  1,  1,  1,  1, -1,  1,  1]])"
      ]
     },
     "execution_count": 64,
     "metadata": {},
     "output_type": "execute_result"
    }
   ],
   "source": [
    "for k in range(16):\n",
    "    for i in range(4):\n",
    "        x = sgn(np.dot(w[i],xPro.T[k].T)-theta[0][i])\n",
    "        xPro[i][k] = x\n",
    "xPro"
   ]
  }
 ],
 "metadata": {
  "kernelspec": {
   "display_name": "Python 3",
   "language": "python",
   "name": "python3"
  },
  "language_info": {
   "codemirror_mode": {
    "name": "ipython",
    "version": 3
   },
   "file_extension": ".py",
   "mimetype": "text/x-python",
   "name": "python",
   "nbconvert_exporter": "python",
   "pygments_lexer": "ipython3",
   "version": "3.8.8"
  }
 },
 "nbformat": 4,
 "nbformat_minor": 5
}

{
 "cells": [
  {
   "cell_type": "code",
   "execution_count": 28,
   "id": "0ac32964",
   "metadata": {},
   "outputs": [],
   "source": [
    "import torch\n",
    "from torchvision import transforms\n",
    "from torchvision import datasets\n",
    "from torch.utils.data import DataLoader\n",
    "import torch.nn.functional as F\n",
    "import torch.optim as optim\n",
    "import numpy as np\n",
    "import matplotlib.pyplot as plt\n",
    "import random\n",
    "from sklearn.model_selection import train_test_split"
   ]
  },
  {
   "cell_type": "code",
   "execution_count": 29,
   "id": "67198100",
   "metadata": {},
   "outputs": [],
   "source": [
    "def f(x1,x2):\n",
    "    return 1/(1+np.sqrt(x1*x1 + x2*x2))\n"
   ]
  },
  {
   "cell_type": "code",
   "execution_count": 30,
   "id": "644e32b1",
   "metadata": {},
   "outputs": [
    {
     "name": "stdout",
     "output_type": "stream",
     "text": [
      "torch.Size([5000, 1])\n",
      "torch.Size([5000, 2])\n"
     ]
    }
   ],
   "source": [
    "np.random.seed(200)\n",
    "x1 = np.random.rand(10000)\n",
    "x2 = np.random.rand(10000)\n",
    "y = f(x1,x2)\n",
    "train = np.vstack([x1,x2])\n",
    "# train = np.vstack([train,y])\n",
    "# train = np.random.choice(train,5000, replace = False)\n",
    "train_x, test_x, train_y, test_y = train_test_split(train.T, y, test_size=0.5, random_state=42)\n",
    "#plt.plot(test_y,linestyle = \"-\",color='r', alpha = 0.5)\n",
    "train_x_tensor = torch.from_numpy(train_x.astype(np.float32))\n",
    "train_y_tensor = torch.from_numpy(train_y.astype(np.float32)).unsqueeze(1)\n",
    "test_x_tensor = torch.from_numpy(test_x.astype(np.float32))\n",
    "test_y_tensor = torch.from_numpy(test_y.astype(np.float32)).unsqueeze(1)\n",
    "print(train_y_tensor.shape)\n",
    "print(train_x_tensor.shape)"
   ]
  },
  {
   "cell_type": "code",
   "execution_count": 31,
   "id": "c40b6b1e",
   "metadata": {},
   "outputs": [],
   "source": [
    "class Net(torch.nn.Module):\n",
    "    def __init__(self,m):\n",
    "        super(Net, self).__init__()\n",
    "        self.fc1 = torch.nn.Linear(2,m)\n",
    "        self.fc2 = torch.nn.Linear(m,1)\n",
    "        self.sigmoid = torch.nn.Sigmoid()\n",
    "    \n",
    "    def forward(self, x):\n",
    "        y_pred = self.sigmoid(self.fc1(x))\n",
    "        y_pred = self.sigmoid(self.fc2(y_pred))\n",
    "#         print(x.shape)\n",
    "        return y_pred\n",
    "    \n",
    "model = Net(10)"
   ]
  },
  {
   "cell_type": "code",
   "execution_count": 32,
   "id": "abadcc2c",
   "metadata": {},
   "outputs": [
    {
     "data": {
      "text/plain": [
       "torch.Size([5000, 1])"
      ]
     },
     "execution_count": 32,
     "metadata": {},
     "output_type": "execute_result"
    }
   ],
   "source": [
    "model(train_x_tensor).shape\n",
    "train_y_tensor.shape"
   ]
  },
  {
   "cell_type": "code",
   "execution_count": 33,
   "id": "4d72638e",
   "metadata": {},
   "outputs": [],
   "source": [
    "criterion = torch.nn.MSELoss(reduction ='mean')\n",
    "optimizer = torch.optim.Adam(model.parameters(), lr = 0.0001)\n",
    "epoch_lst = []\n",
    "loss_item = []"
   ]
  },
  {
   "cell_type": "code",
   "execution_count": 34,
   "id": "880491a4",
   "metadata": {},
   "outputs": [],
   "source": [
    "def train(train_num,inputs,target):\n",
    "    epsilon = 0.01\n",
    "    for epoch in range(train_num):\n",
    "\n",
    "        #forward\n",
    "        \n",
    "        outputs = model(inputs)\n",
    "        loss = criterion(outputs, target)\n",
    "        #backward\n",
    "        optimizer.zero_grad()\n",
    "        loss.backward()\n",
    "        optimizer.step()\n",
    "        if(epoch % 100 == 0):#5000轮测试一次然后输出当前的训练误差与测试误差\n",
    "            test_loss = test(test_x_tensor, test_y_tensor)\n",
    "            print('epoch:%d train_loss:%f test_loss:%f' %(epoch,loss.item(),test_loss.item()) )\n",
    "            epoch_lst.append(epoch)\n",
    "            loss_item.append(loss.item())\n",
    "        if loss < epsilon:\n",
    "            print(epoch,loss.item())\n",
    "            loss = epsilon\n",
    "            torch.save(model.state_dict(),'./model.pt')\n",
    "            print(\"loss < epsilon\")\n",
    "            break;"
   ]
  },
  {
   "cell_type": "code",
   "execution_count": 35,
   "id": "6175ac97",
   "metadata": {},
   "outputs": [],
   "source": [
    "def test(inputs,target):\n",
    "    outputs = model(inputs)\n",
    "    loss = criterion(outputs, target)\n",
    "    return loss"
   ]
  },
  {
   "cell_type": "code",
   "execution_count": 36,
   "id": "80432d55",
   "metadata": {},
   "outputs": [
    {
     "name": "stdout",
     "output_type": "stream",
     "text": [
      "epoch:0 train_loss:0.024046 test_loss:0.023733\n",
      "epoch:100 train_loss:0.020797 test_loss:0.020529\n",
      "epoch:200 train_loss:0.018229 test_loss:0.018001\n",
      "epoch:300 train_loss:0.016248 test_loss:0.016056\n",
      "epoch:400 train_loss:0.014757 test_loss:0.014599\n",
      "epoch:500 train_loss:0.013667 test_loss:0.013537\n",
      "epoch:600 train_loss:0.012890 test_loss:0.012785\n",
      "epoch:700 train_loss:0.012347 test_loss:0.012262\n",
      "epoch:800 train_loss:0.011968 test_loss:0.011901\n",
      "epoch:900 train_loss:0.011701 test_loss:0.011647\n",
      "epoch:1000 train_loss:0.011505 test_loss:0.011462\n",
      "epoch:1100 train_loss:0.011356 test_loss:0.011320\n",
      "epoch:1200 train_loss:0.011235 test_loss:0.011205\n",
      "epoch:1300 train_loss:0.011131 test_loss:0.011106\n",
      "epoch:1400 train_loss:0.011038 test_loss:0.011017\n",
      "epoch:1500 train_loss:0.010950 test_loss:0.010932\n",
      "epoch:1600 train_loss:0.010866 test_loss:0.010849\n",
      "epoch:1700 train_loss:0.010782 test_loss:0.010767\n",
      "epoch:1800 train_loss:0.010698 test_loss:0.010683\n",
      "epoch:1900 train_loss:0.010613 test_loss:0.010599\n",
      "epoch:2000 train_loss:0.010527 test_loss:0.010513\n",
      "epoch:2100 train_loss:0.010438 test_loss:0.010424\n",
      "epoch:2200 train_loss:0.010346 test_loss:0.010332\n",
      "epoch:2300 train_loss:0.010251 test_loss:0.010238\n",
      "epoch:2400 train_loss:0.010153 test_loss:0.010139\n",
      "epoch:2500 train_loss:0.010051 test_loss:0.010037\n",
      "2549 0.009999093599617481\n",
      "loss < epsilon\n"
     ]
    },
    {
     "data": {
      "image/png": "[encoded data removed]",
      "text/plain": [
       "<Figure size 432x288 with 1 Axes>"
      ]
     },
     "metadata": {
      "needs_background": "light"
     },
     "output_type": "display_data"
    }
   ],
   "source": [
    "if __name__ == '__main__':\n",
    "    train(1000000,train_x_tensor, train_y_tensor)\n",
    "    plt.plot(epoch_lst, loss_item,linestyle = \"-\",marker=\"o\",color='r', alpha = 0.5)\n",
    "    plt.xlabel('epoch')\n",
    "    plt.ylabel('loss')\n",
    "    plt.show()"
   ]
  },
  {
   "cell_type": "code",
   "execution_count": null,
   "id": "e7bf8840",
   "metadata": {},
   "outputs": [],
   "source": []
  },
  {
   "cell_type": "code",
   "execution_count": null,
   "id": "ee001102",
   "metadata": {},
   "outputs": [],
   "source": []
  }
 ],
 "metadata": {
  "kernelspec": {
   "display_name": "Python 3",
   "language": "python",
   "name": "python3"
  },
  "language_info": {
   "codemirror_mode": {
    "name": "ipython",
    "version": 3
   },
   "file_extension": ".py",
   "mimetype": "text/x-python",
   "name": "python",
   "nbconvert_exporter": "python",
   "pygments_lexer": "ipython3",
   "version": "3.8.8"
  }
 },
 "nbformat": 4,
 "nbformat_minor": 5
}

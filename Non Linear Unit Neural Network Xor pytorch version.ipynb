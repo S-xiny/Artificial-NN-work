{
 "cells": [
  {
   "cell_type": "code",
   "execution_count": 3,
   "id": "9a0a71a4",
   "metadata": {},
   "outputs": [
    {
     "name": "stdout",
     "output_type": "stream",
     "text": [
      "torch.Size([4, 1])\n"
     ]
    }
   ],
   "source": [
    "import torch\n",
    "from torchvision import transforms\n",
    "from torchvision import datasets\n",
    "from torch.utils.data import DataLoader\n",
    "import torch.nn.functional as F\n",
    "import torch.optim as optim\n",
    "import numpy as np\n",
    "import matplotlib.pyplot as plt\n",
    "train_x = np.array([[0,0],[0,1],[1,0],[1,1]])\n",
    "train_y = np.array([[0.0],[1.0],[1.0],[0.0]])\n",
    "train_x_tensor = torch.from_numpy(train_x.astype(np.float32))\n",
    "train_y_tensor = torch.from_numpy(train_y.astype(np.float32))\n",
    "print(train_y_tensor.shape)\n",
    "class Net(torch.nn.Module):\n",
    "    def __init__(self):\n",
    "        super(Net, self).__init__()\n",
    "        self.fc1 = torch.nn.Linear(2,2)\n",
    "        self.fc2 = torch.nn.Linear(2,1)\n",
    "        self.sigmoid = torch.nn.Sigmoid()\n",
    "    \n",
    "    def forward(self, x):\n",
    "        y_pred = self.sigmoid(self.fc1(x))\n",
    "        y_pred = self.sigmoid(self.fc2(y_pred))\n",
    "#         print(x.shape)\n",
    "        return y_pred\n",
    "    \n",
    "model = Net()\n",
    "criterion = torch.nn.BCELoss(reduction = 'mean')\n",
    "optimizer = optim.SGD(model.parameters(), lr = 0.1, momentum = 0.5)\n",
    "epoch_lst = []\n",
    "loss_item = []\n",
    "def train(train_num,inputs,target):\n",
    "    epsilon = 0.001\n",
    "    for epoch in range(train_num):\n",
    "        optimizer.zero_grad()\n",
    "        #forward\n",
    "        \n",
    "        outputs = model(inputs)\n",
    "        loss = criterion(outputs, target)\n",
    "        #backward\n",
    "        loss.backward()\n",
    "        optimizer.step()\n",
    "        if(epoch % 5000 == 4999):\n",
    "            print(epoch,loss.item())\n",
    "            epoch_lst.append(epoch)\n",
    "            loss_item.append(loss.item())\n",
    "        if loss < epsilon:\n",
    "            print(epoch)\n",
    "            loss = epsilon\n",
    "            torch.save(model.state_dict(),'./model.pt')\n",
    "            print(\"loss < epsilon\")\n",
    "            break;\n",
    "if __name__ == '__main__':\n",
    "    train(10000,train_x_tensor, train_y_tensor)\n",
    "    plt.plot(epoch_lst, loss_item,linestyle = \"-\",marker=\"o\",color='r', alpha = 0.5)\n",
    "    plt.xlabel('epoch')\n",
    "    plt.ylabel('loss')\n",
    "    plt.show()"
   ]
  },
  {
   "cell_type": "code",
   "execution_count": 7,
   "id": "e7bf8840",
   "metadata": {},
   "outputs": [
    {
     "name": "stdout",
     "output_type": "stream",
     "text": [
      "tensor([[8.7101e-04],\n",
      "        [9.9883e-01],\n",
      "        [9.9883e-01],\n",
      "        [7.8701e-04]], grad_fn=<SigmoidBackward0>)\n"
     ]
    }
   ],
   "source": [
    "print(model(train_x_tensor))"
   ]
  },
  {
   "cell_type": "code",
   "execution_count": null,
   "id": "ee001102",
   "metadata": {},
   "outputs": [],
   "source": []
  }
 ],
 "metadata": {
  "kernelspec": {
   "display_name": "Python 3 (ipykernel)",
   "language": "python",
   "name": "python3"
  },
  "language_info": {
   "codemirror_mode": {
    "name": "ipython",
    "version": 3
   },
   "file_extension": ".py",
   "mimetype": "text/x-python",
   "name": "python",
   "nbconvert_exporter": "python",
   "pygments_lexer": "ipython3",
   "version": "3.9.13"
  }
 },
 "nbformat": 4,
 "nbformat_minor": 5
}

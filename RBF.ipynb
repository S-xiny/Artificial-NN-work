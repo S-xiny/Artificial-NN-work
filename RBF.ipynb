{
 "cells": [
  {
   "cell_type": "code",
   "execution_count": 38,
   "id": "87b25800",
   "metadata": {},
   "outputs": [],
   "source": [
    "import glob\n",
    "import numpy as np\n",
    "import pandas as pd"
   ]
  },
  {
   "cell_type": "code",
   "execution_count": 5,
   "id": "0ba23133",
   "metadata": {},
   "outputs": [],
   "source": []
  },
  {
   "cell_type": "code",
   "execution_count": 70,
   "id": "097b8436",
   "metadata": {},
   "outputs": [],
   "source": [
    "path = 'C:/Users/89344/Desktop/人工神经网络/vowel'\n",
    "file_name = glob.glob(path+'/*')\n",
    "data = []\n",
    "for i in file_name:\n",
    "    data.append(pd.read_table(i, sep = '\\t', header = 0))\n",
    "train_data = data[1]\n",
    "test_data = data[0]\n",
    "train_data_string =  train_data.loc[0]\n",
    "train_data.drop(labels=[0,1],inplace = True)\n",
    "train_data.reset_index(drop = True,inplace = True)\n",
    "test_data_string =  test_data.loc[0]\n",
    "test_data.drop(labels=[0,1],inplace = True)\n",
    "test_data.reset_index(drop = True,inplace = True)\n",
    "lst = ['x.1', 'x.2', 'x.3', 'x.4', 'x.5', 'x.6', 'x.7',\n",
    "       'x.8', 'x.9', 'x.10']\n",
    "X = train_data[lst]\n",
    "y = train_data['y']\n",
    "np.array(X)"
   ]
  },
  {
   "cell_type": "code",
   "execution_count": 74,
   "id": "4b18b01a",
   "metadata": {},
   "outputs": [],
   "source": []
  },
  {
   "cell_type": "code",
   "execution_count": 76,
   "id": "f86b44e2",
   "metadata": {},
   "outputs": [],
   "source": []
  },
  {
   "cell_type": "code",
   "execution_count": 78,
   "id": "d41d5bf6",
   "metadata": {},
   "outputs": [
    {
     "data": {
      "text/plain": [
       "array([['-3.639', '0.418', '-0.67', ..., '0.529', '-0.874', '-0.814'],\n",
       "       ['-3.327', '0.496', '-0.694', ..., '0.51', '-0.621', '-0.488'],\n",
       "       ['-2.12', '0.894', '-1.576', ..., '0.676', '-0.809', '-0.049'],\n",
       "       ...,\n",
       "       ['-4.651', '4.246', '-0.823', ..., '0.094', '-1.343', '0.185'],\n",
       "       ['-5.034', '4.993', '-1.633', ..., '-0.508', '-0.283', '0.304'],\n",
       "       ['-4.261', '1.827', '-0.482', ..., '0.05', '-0.112', '0.321']],\n",
       "      dtype=object)"
      ]
     },
     "execution_count": 78,
     "metadata": {},
     "output_type": "execute_result"
    }
   ],
   "source": []
  }
 ],
 "metadata": {
  "kernelspec": {
   "display_name": "Python 3 (ipykernel)",
   "language": "python",
   "name": "python3"
  },
  "language_info": {
   "codemirror_mode": {
    "name": "ipython",
    "version": 3
   },
   "file_extension": ".py",
   "mimetype": "text/x-python",
   "name": "python",
   "nbconvert_exporter": "python",
   "pygments_lexer": "ipython3",
   "version": "3.9.13"
  }
 },
 "nbformat": 4,
 "nbformat_minor": 5
}

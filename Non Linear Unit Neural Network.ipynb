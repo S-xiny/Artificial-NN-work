{
 "cells": [
  {
   "cell_type": "code",
   "execution_count": 4,
   "id": "0bd3b334",
   "metadata": {},
   "outputs": [],
   "source": [
    "import numpy as np\n",
    "import random\n",
    "import torch.nn as nn\n",
    "from matplotlib import pyplot as plt\n",
    "import torch\n",
    "import pandas"
   ]
  },
  {
   "cell_type": "code",
   "execution_count": null,
   "id": "be052a8b",
   "metadata": {},
   "outputs": [],
   "source": [
    "criterion = nn.CrossEntropyLoss()"
   ]
  },
  {
   "cell_type": "code",
   "execution_count": 6,
   "id": "244a8a3a",
   "metadata": {},
   "outputs": [
    {
     "ename": "SyntaxError",
     "evalue": "invalid syntax (<ipython-input-6-5c26995e63d2>, line 11)",
     "output_type": "error",
     "traceback": [
      "\u001b[1;36m  File \u001b[1;32m\"<ipython-input-6-5c26995e63d2>\"\u001b[1;36m, line \u001b[1;32m11\u001b[0m\n\u001b[1;33m    self.fc1 =\u001b[0m\n\u001b[1;37m               ^\u001b[0m\n\u001b[1;31mSyntaxError\u001b[0m\u001b[1;31m:\u001b[0m invalid syntax\n"
     ]
    }
   ],
   "source": [
    "class Model():\n",
    "    def __init__(self,trainNum = 50):\n",
    "        self.train_x = np.array([[0,0,0],[1,0,0],[0,1,0],[0,0,1],[1,1,0],[1,0,1],[0,1,1],[1,1,1]])\n",
    "        self.train_y = np.array([1,1,1,1,1,-1,-1,-1])\n",
    "        self.flag = np.zeros(8)\n",
    "        self.weight = np.array([0,0,0])\n",
    "        self.theta = 0\n",
    "        self.lr = 0.1\n",
    "        self.trainNum = trainNum\n",
    "        self.result = []\n",
    "        self.fc1 = \n",
    "    def train(self):\n",
    "        for j in range(self.trainNum):\n",
    "            for n in range(len(self.train_x)):\n",
    "                self.forward(n)\n",
    "                self.backward(n)\n",
    "    #            print(self.accurate())\n",
    "                self.result.append(self.y)\n",
    "            print(self.result)\n",
    "            print('weight:',self.weight)\n",
    "            print('theta:',self.theta)\n",
    "\n",
    "            if (np.array_equal(self.train_y,self.result)):\n",
    "                print(self.result)\n",
    "                break\n",
    "            self.result.clear()    \n",
    "    def sgn(self,x):\n",
    "        if(x < 0):\n",
    "            return -1\n",
    "        else:\n",
    "            return 1\n",
    "    def sigmoid(self, x):\n",
    "        return 1.0/(1+np.exp(-x))\n",
    "    def relu(x):\n",
    "        if(x<0):\n",
    "            return 0\n",
    "        else:\n",
    "            return x\n",
    "    def forward(self,n):\n",
    "\n",
    "        self.y = self.sigmoid(np.dot(self.train_x[n], self.weight) - self.theta)\n",
    "    def backward(self,n):\n",
    "        self.weight = self.weight + np.dot((self.train_y[n] - self.y), self.train_x[n]) * self.lr\n",
    "        self.theta = self.theta - (self.train_y[n] - self.y)  * self.lr\n",
    "    def loss(self):\n",
    "        return np.sum((self.train_y - self.result)/len(self.train_y))\n",
    "    def accurate(self):\n",
    "        return self.loss()\n"
   ]
  },
  {
   "cell_type": "code",
   "execution_count": null,
   "id": "6739ec8a",
   "metadata": {},
   "outputs": [],
   "source": [
    "class Linear(inp, oup):\n",
    "    "
   ]
  },
  {
   "cell_type": "code",
   "execution_count": null,
   "id": "43a3d948",
   "metadata": {},
   "outputs": [],
   "source": [
    "class NLUNet(model):\n",
    "    super(SVHN_Model1, self).__init__()"
   ]
  },
  {
   "cell_type": "code",
   "execution_count": null,
   "id": "628511fb",
   "metadata": {},
   "outputs": [],
   "source": [
    "if __name__ == '__main__':\n",
    "    model = Model()\n",
    "    model.train()"
   ]
  }
 ],
 "metadata": {
  "kernelspec": {
   "display_name": "Python 3",
   "language": "python",
   "name": "python3"
  },
  "language_info": {
   "codemirror_mode": {
    "name": "ipython",
    "version": 3
   },
   "file_extension": ".py",
   "mimetype": "text/x-python",
   "name": "python",
   "nbconvert_exporter": "python",
   "pygments_lexer": "ipython3",
   "version": "3.8.8"
  }
 },
 "nbformat": 4,
 "nbformat_minor": 5
}
